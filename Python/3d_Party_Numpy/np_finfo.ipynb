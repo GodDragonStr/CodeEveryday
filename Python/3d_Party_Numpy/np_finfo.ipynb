{
 "cells": [
  {
   "cell_type": "markdown",
   "metadata": {},
   "source": [
    "np.finfo(np.float32) 函数返回一个对象，该对象包含有关浮点类型的信息，例如最小值、最大值、精度等等。以下是 np.finfo(np.float32) 函数返回对象的各个参数意义：\n",
    "\n",
    "eps：适当类型的浮点数最小可表示数字，例如 1.0 + eps != 1.0。\n",
    "epsneg：适当类型的浮点数最小可表示数字，例如 1.0 - epsneg != 1.0。\n",
    "iexp：浮点表示形式的指数部分中的位数。\n",
    "machar：计算这些参数并保存更多详细信息的对象。\n",
    "machep：产生 eps 的指数。\n",
    "max：适当类型的浮点数可表示的最大数字。\n",
    "maxexp：导致溢出的基极（2）的最小正功率。\n",
    "min：适当类型的浮点数最小可表示数字，通常是 -max。\n",
    "minexp：基数（2）的最大负幂与尾数中没有前导 0 一致。\n",
    "negep：产生 epsneg 的指数。\n",
    "nexp：指数中的位数，包括其符号和偏差。\n",
    "nmant：尾数的位数。\n",
    "precision：这种浮点数精确到的近似十进制数字。\n",
    "resolution：适当类型的浮点数此类型的近似十进制分辨率，即 10 ** -precision。\n",
    "tiny：适当类型的浮点数最小幅度的可用数字。\n",
    "希望这可以帮助您理解 np.finfo(np.float32) 函数返回对象中各个参数的意义。"
   ]
  },
  {
   "cell_type": "code",
   "execution_count": null,
   "metadata": {},
   "outputs": [
    {
     "name": "stdout",
     "output_type": "stream",
     "text": [
      "<class 'numpy.finfo'>\n",
      "Machine parameters for float32\n",
      "---------------------------------------------------------------\n",
      "precision =   6   resolution = 1.0000000e-06\n",
      "machep =    -23   eps =        1.1920929e-07\n",
      "negep =     -24   epsneg =     5.9604645e-08\n",
      "minexp =   -126   tiny =       1.1754944e-38\n",
      "maxexp =    128   max =        3.4028235e+38\n",
      "nexp =        8   min =        -max\n",
      "smallest_normal = 1.1754944e-38   smallest_subnormal = 1.4012985e-45\n",
      "---------------------------------------------------------------\n",
      "\n"
     ]
    }
   ],
   "source": [
    "import numpy as np \n",
    "\n",
    "print(np.finfo)\n",
    "print(np.finfo(np.float32))"
   ]
  }
 ],
 "metadata": {
  "kernelspec": {
   "display_name": "base",
   "language": "python",
   "name": "python3"
  },
  "language_info": {
   "codemirror_mode": {
    "name": "ipython",
    "version": 3
   },
   "file_extension": ".py",
   "mimetype": "text/x-python",
   "name": "python",
   "nbconvert_exporter": "python",
   "pygments_lexer": "ipython3",
   "version": "3.10.9"
  },
  "orig_nbformat": 4
 },
 "nbformat": 4,
 "nbformat_minor": 2
}
