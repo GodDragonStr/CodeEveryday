{
 "cells": [
  {
   "cell_type": "markdown",
   "metadata": {},
   "source": [
    "np.concatenate() 是 NumPy 中的一个函数，用于将多个数组（张量）沿指定的轴连接在一起。它的作用是创建一个新的数组，其中包含了所有输入数组的元素。以下是关于 np.concatenate() 的作用、含义和使用方法，以及一个详细示例：\n",
    "\n",
    "作用和含义：\n",
    "np.concatenate() 用于将多个数组连接在一起，形成一个更大的数组。连接可以沿指定的轴进行，可以用于水平（横向）连接或垂直（纵向）连接数组。"
   ]
  },
  {
   "cell_type": "code",
   "execution_count": 1,
   "metadata": {},
   "outputs": [
    {
     "name": "stdout",
     "output_type": "stream",
     "text": [
      "垂直连接结果：\n",
      "[[1 2]\n",
      " [3 4]\n",
      " [5 6]]\n",
      "水平连接结果：\n",
      "[[1 2 5]\n",
      " [3 4 6]]\n"
     ]
    }
   ],
   "source": [
    "import numpy as np\n",
    "\n",
    "# 创建两个示例数组\n",
    "a = np.array([[1, 2], [3, 4]])\n",
    "b = np.array([[5, 6]])\n",
    "\n",
    "# 垂直连接数组a和b\n",
    "result_vertical = np.concatenate((a, b), axis=0)\n",
    "\n",
    "# 水平连接数组a和b\n",
    "result_horizontal = np.concatenate((a, b.T), axis=1)  # 注意b需要转置\n",
    "\n",
    "print(\"垂直连接结果：\")\n",
    "print(result_vertical)\n",
    "\n",
    "print(\"水平连接结果：\")\n",
    "print(result_horizontal)\n"
   ]
  }
 ],
 "metadata": {
  "kernelspec": {
   "display_name": "base",
   "language": "python",
   "name": "python3"
  },
  "language_info": {
   "codemirror_mode": {
    "name": "ipython",
    "version": 3
   },
   "file_extension": ".py",
   "mimetype": "text/x-python",
   "name": "python",
   "nbconvert_exporter": "python",
   "pygments_lexer": "ipython3",
   "version": "3.10.9"
  },
  "orig_nbformat": 4
 },
 "nbformat": 4,
 "nbformat_minor": 2
}
