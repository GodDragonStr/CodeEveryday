{
 "cells": [
  {
   "cell_type": "markdown",
   "metadata": {},
   "source": [
    "np.clip() 是NumPy中的函数，用于将数组中的元素限制在指定的范围内。它的作用是截断数组中的值，将小于下限的值设置为下限，大于上限的值设置为上限，而不影响在范围内的值。以下是关于np.clip()的含义、使用方法以及具体的代码示例：\n",
    "\n",
    "含义：\n",
    "np.clip(a, a_min, a_max) 将数组 a 中的元素限制在范围 [a_min, a_max] 内，返回一个新的数组，其中的元素被截断至指定范围内。"
   ]
  },
  {
   "cell_type": "code",
   "execution_count": 1,
   "metadata": {},
   "outputs": [
    {
     "name": "stdout",
     "output_type": "stream",
     "text": [
      "原始数组：\n",
      "[1 2 3 4 5 6 7 8 9]\n",
      "截断后的数组：\n",
      "[3 3 3 4 5 6 7 7 7]\n"
     ]
    }
   ],
   "source": [
    "import numpy as np\n",
    "\n",
    "# 创建一个示例数组\n",
    "arr = np.array([1, 2, 3, 4, 5, 6, 7, 8, 9])\n",
    "\n",
    "# 使用np.clip()将数组中的值限制在[3, 7]范围内\n",
    "clipped_arr = np.clip(arr, a_min=3, a_max=7)\n",
    "\n",
    "print(\"原始数组：\")\n",
    "print(arr)\n",
    "\n",
    "print(\"截断后的数组：\")\n",
    "print(clipped_arr)\n"
   ]
  }
 ],
 "metadata": {
  "kernelspec": {
   "display_name": "base",
   "language": "python",
   "name": "python3"
  },
  "language_info": {
   "codemirror_mode": {
    "name": "ipython",
    "version": 3
   },
   "file_extension": ".py",
   "mimetype": "text/x-python",
   "name": "python",
   "nbconvert_exporter": "python",
   "pygments_lexer": "ipython3",
   "version": "3.10.9"
  },
  "orig_nbformat": 4
 },
 "nbformat": 4,
 "nbformat_minor": 2
}
