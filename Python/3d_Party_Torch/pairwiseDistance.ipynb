{
 "cells": [
  {
   "cell_type": "code",
   "execution_count": 4,
   "metadata": {},
   "outputs": [
    {
     "name": "stdout",
     "output_type": "stream",
     "text": [
      "tensor([[5.1962],\n",
      "        [5.1962]])\n"
     ]
    }
   ],
   "source": [
    "import torch\n",
    "import torch.nn as nn\n",
    "\n",
    "# 创建输入张量\n",
    "input1 = torch.tensor([[1.0, 2.0, 3.0],\n",
    "                       [4.0, 5.0, 6.0]])\n",
    "input2 = torch.tensor([[4.0, 5.0, 6.0],\n",
    "                       [7.0, 8.0, 9.0]])\n",
    "\n",
    "# 初始化PairwiseDistance模块\n",
    "pairwise_distance = nn.PairwiseDistance(keepdim=True)\n",
    "\n",
    "# 计算输入张量中每一对向量之间的距离\n",
    "distances = pairwise_distance(input1, input2)\n",
    "\n",
    "print(distances)"
   ]
  },
  {
   "cell_type": "code",
   "execution_count": 11,
   "metadata": {},
   "outputs": [
    {
     "name": "stdout",
     "output_type": "stream",
     "text": [
      "tensor([0, 0, 1], dtype=torch.int32)\n",
      "tensor([1, 4, 9])\n",
      "True\n"
     ]
    }
   ],
   "source": [
    "a = torch.tensor([1, 2, 3])\n",
    "print((a > 2).int())\n",
    "print(torch.pow(a, 2))\n",
    "b = 1\n",
    "print((b - 0.5) * 2  == 1)"
   ]
  },
  {
   "cell_type": "code",
   "execution_count": 24,
   "metadata": {},
   "outputs": [
    {
     "name": "stdout",
     "output_type": "stream",
     "text": [
      "tensor([[ 1.0000],\n",
      "        [ 0.8000],\n",
      "        [-1.0000]])\n",
      "tensor([[-0.1000,  1.0000, -0.5000],\n",
      "        [ 0.3000, -0.2000,  0.8000],\n",
      "        [-1.0000,  0.1000,  0.5000]])\n",
      "tensor([[0.2139, 0.6427, 0.1434],\n",
      "        [0.3072, 0.1863, 0.5065],\n",
      "        [0.1178, 0.3540, 0.5281]])\n"
     ]
    }
   ],
   "source": [
    "import torch  \n",
    "  \n",
    "logpt = torch.tensor([[-0.1, 1.0, -0.5],  \n",
    "                      [0.3, -0.2, 0.8],  \n",
    "                      [-1.0, 0.1, 0.5]])  # 假设的对数概率  \n",
    "target = torch.tensor([1, 2, 0])  # 真实的类别标签  \n",
    "  \n",
    "gathered = logpt.gather(1, target.unsqueeze(1))  # 因为target没有第二个维度，所以我们需要添加它  \n",
    "print(gathered)\n",
    "print(logpt)\n",
    "\n",
    "logpt = torch.nn.functional.softmax(logpt, dim=1)\n",
    "print(logpt)\n"
   ]
  },
  {
   "cell_type": "code",
   "execution_count": 28,
   "metadata": {},
   "outputs": [
    {
     "name": "stdout",
     "output_type": "stream",
     "text": [
      "tensor([[[1., 0., 0.],\n",
      "         [1., 0., 0.],\n",
      "         [1., 0., 0.]],\n",
      "\n",
      "        [[1., 0., 0.],\n",
      "         [1., 0., 0.],\n",
      "         [1., 0., 0.]],\n",
      "\n",
      "        [[1., 0., 0.],\n",
      "         [1., 0., 0.],\n",
      "         [1., 0., 0.]]])\n"
     ]
    }
   ],
   "source": [
    "print(torch.eye(3)[logpt.type(torch.LongTensor)])"
   ]
  },
  {
   "cell_type": "code",
   "execution_count": 40,
   "metadata": {},
   "outputs": [
    {
     "name": "stdout",
     "output_type": "stream",
     "text": [
      "True\n",
      "torch.Size([8, 1, 4, 4])\n"
     ]
    }
   ],
   "source": [
    "aa = torch.tensor([1, 2, 3])\n",
    "bb = torch.tensor([2, 2, 3])\n",
    "\n",
    "cc = torch.ones([8, 2, 4, 4])\n",
    "dd = cc[:, 0, :, :].unsqueeze(dim=1)\n",
    "\n",
    "G_net = 'SuperChangeV0'\n",
    "print('SuperChange' in G_net)\n",
    "print(dd.shape)"
   ]
  },
  {
   "cell_type": "code",
   "execution_count": 55,
   "metadata": {},
   "outputs": [
    {
     "name": "stderr",
     "output_type": "stream",
     "text": [
      "C:\\Users\\Harry\\AppData\\Local\\Temp\\ipykernel_21052\\275299009.py:8: RuntimeWarning: divide by zero encountered in divide\n",
      "  y0=0.5 * 1 / x\n"
     ]
    },
    {
     "data": {
      "image/png": "[encoded data removed]",
      "text/plain": [
       "<Figure size 640x480 with 1 Axes>"
      ]
     },
     "metadata": {},
     "output_type": "display_data"
    }
   ],
   "source": [
    "import matplotlib.pyplot as plt\n",
    "import numpy as np\n",
    "#arange返回一个数据，range返回一个list\n",
    "#arange 用于创建等差数组\n",
    "x=np.arange(0, 300)  #[0 2 4 6 8]\n",
    "\n",
    "fig=plt.figure()\n",
    "y0=0.5 * 1 / x\n",
    "# constraint loss\n",
    "y1 = np.where(x < 150, 0.5 - 0.8 * x / 300,  0.1)\n",
    "# ce loss\n",
    "y2= 1- y0\n",
    "#ax1显示y1  ,ax2显示y2 \n",
    "# ax1=fig.subplots()\n",
    "# ax2=ax1.twinx()    #使用twinx()，得到与ax1 对称的ax2,共用一个x轴，y轴对称（坐标不对称）\n",
    "plt.plot(x,y2,'orange', label=r'$\\lambda$')\n",
    "plt.plot(x,y1,'g', label=r'$\\gamma$')\n",
    "\n",
    "\n",
    "plt.xlabel('epochs')\n",
    "plt.ylabel('value')\n",
    "\n",
    "plt.legend(loc=\"upper right\")\n",
    "# ax1.set_ylabel('$\\gamma$ (unchagned constraint loss)')\n",
    "# ax2.set_ylabel('$\\lambda$ (cross entropy loss)')\n",
    "\n",
    "plt.grid(True, 'both')\n",
    "\n",
    "plt.savefig(r'D:\\Repositery\\CodeEveryday\\Python\\3d_Party_Torch\\result.png')\n",
    "plt.show()"
   ]
  },
  {
   "cell_type": "code",
   "execution_count": 56,
   "metadata": {},
   "outputs": [
    {
     "name": "stdout",
     "output_type": "stream",
     "text": [
      "[0 1 2 3 4 5 6 7 8 9]\n"
     ]
    }
   ],
   "source": [
    "print(np.arange(10))"
   ]
  }
 ],
 "metadata": {
  "kernelspec": {
   "display_name": "base",
   "language": "python",
   "name": "python3"
  },
  "language_info": {
   "codemirror_mode": {
    "name": "ipython",
    "version": 3
   },
   "file_extension": ".py",
   "mimetype": "text/x-python",
   "name": "python",
   "nbconvert_exporter": "python",
   "pygments_lexer": "ipython3",
   "version": "3.10.9"
  },
  "orig_nbformat": 4
 },
 "nbformat": 4,
 "nbformat_minor": 2
}
