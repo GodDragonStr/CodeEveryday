{
 "cells": [
  {
   "cell_type": "markdown",
   "metadata": {},
   "source": [
    "for基本使用方法"
   ]
  },
  {
   "cell_type": "code",
   "execution_count": 1,
   "metadata": {},
   "outputs": [
    {
     "name": "stdout",
     "output_type": "stream",
     "text": [
      "<class 'list'>\n"
     ]
    }
   ],
   "source": [
    "list1 = [i + j for i in range(3) for j in range(2)]\n",
    "\n",
    "print(list)"
   ]
  },
  {
   "cell_type": "code",
   "execution_count": 2,
   "metadata": {},
   "outputs": [
    {
     "name": "stdout",
     "output_type": "stream",
     "text": [
      "[0, 1, 1, 2, 1, 2, 2, 3, 2, 3, 3, 4]\n"
     ]
    }
   ],
   "source": [
    "list2 = [i+j+k for i in range(3) for j in range(2) for k in range(2)]\n",
    "print(list2)"
   ]
  },
  {
   "cell_type": "markdown",
   "metadata": {},
   "source": [
    "- zip(*iterables)\n",
    "- zip函数可以接受一系列的可迭代对象作为参数，将对象中对应的元素打包成一个tuple，然后这些tuple组成一个list返回\n",
    "- 如果zip的传入长度不一致，则返回可迭代对象中最短的一个对象的长度"
   ]
  },
  {
   "cell_type": "code",
   "execution_count": 3,
   "metadata": {},
   "outputs": [
    {
     "name": "stdout",
     "output_type": "stream",
     "text": [
      "(1, 'a', 1)\n",
      "(2, 'b', 2)\n",
      "(3, 'c', 3)\n",
      "(4, 'd', 4)\n"
     ]
    }
   ],
   "source": [
    "a = [1, 2, 3, 4]\n",
    "b = ['a', 'b', 'c', 'd']\n",
    "c = list(zip(a, b, a))\n",
    "\n",
    "for _ in c:\n",
    "    print(_)\n",
    "\n",
    "# print(type(c))\n",
    "# print(list(c))\n",
    "# print(dict(zip(a, b)))"
   ]
  },
  {
   "cell_type": "markdown",
   "metadata": {},
   "source": [
    "enumerate函数可以同时返回列表和元组等可迭代对象的下标和内容"
   ]
  },
  {
   "cell_type": "code",
   "execution_count": 3,
   "metadata": {},
   "outputs": [
    {
     "name": "stdout",
     "output_type": "stream",
     "text": [
      "0 1\n",
      "1 2\n",
      "2 3\n",
      "3 hello world!\n"
     ]
    }
   ],
   "source": [
    "seq = [1, 2, '3', \"hello world!\"]\n",
    "\n",
    "for i, element in enumerate(seq):\n",
    "    print(i, element)"
   ]
  }
 ],
 "metadata": {
  "kernelspec": {
   "display_name": "base",
   "language": "python",
   "name": "python3"
  },
  "language_info": {
   "codemirror_mode": {
    "name": "ipython",
    "version": 3
   },
   "file_extension": ".py",
   "mimetype": "text/x-python",
   "name": "python",
   "nbconvert_exporter": "python",
   "pygments_lexer": "ipython3",
   "version": "3.10.9"
  },
  "orig_nbformat": 4
 },
 "nbformat": 4,
 "nbformat_minor": 2
}
