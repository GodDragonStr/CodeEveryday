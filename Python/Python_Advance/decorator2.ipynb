{
 "cells": [
  {
   "cell_type": "markdown",
   "metadata": {},
   "source": [
    "* 装饰器的使用\n",
    "* 关于*args和**kwargs"
   ]
  },
  {
   "cell_type": "code",
   "execution_count": null,
   "metadata": {},
   "outputs": [],
   "source": [
    "# 0号装饰器，过于简单实用性不高\n",
    "def dec_0(f):\n",
    "\n",
    "    return f"
   ]
  },
  {
   "cell_type": "code",
   "execution_count": 2,
   "metadata": {},
   "outputs": [],
   "source": [
    "# 1号装饰器，加入可执行的操作\n",
    "def dec_1(*opts):\n",
    "    def dec(f):\n",
    "        # do something\n",
    "        return f\n",
    "    return dec"
   ]
  },
  {
   "cell_type": "code",
   "execution_count": null,
   "metadata": {},
   "outputs": [],
   "source": [
    "def dec_2(f):\n",
    "    def wrapper(*args, **kwargs):\n",
    "        # do something\n",
    "        return f(*args, **kwargs)\n",
    "    return wrapper"
   ]
  },
  {
   "cell_type": "code",
   "execution_count": 3,
   "metadata": {},
   "outputs": [],
   "source": [
    "def dec_3(*opt):    # 配置函数\n",
    "    def dec(f):     # 装饰器函数\n",
    "        def wrapper(*args, **kwargs):   # 包装函数\n",
    "            # do somthing\n",
    "            return f(*args, **kwargs)\n",
    "        return wrapper\n",
    "    return dec"
   ]
  },
  {
   "cell_type": "code",
   "execution_count": 6,
   "metadata": {},
   "outputs": [
    {
     "ename": "NameError",
     "evalue": "name 'tasks' is not defined",
     "output_type": "error",
     "traceback": [
      "\u001b[1;31m---------------------------------------------------------------------------\u001b[0m",
      "\u001b[1;31mNameError\u001b[0m                                 Traceback (most recent call last)",
      "Cell \u001b[1;32mIn[6], line 26\u001b[0m\n\u001b[0;32m     22\u001b[0m     \u001b[39mfor\u001b[39;00m task \u001b[39min\u001b[39;00m tasks:\n\u001b[0;32m     23\u001b[0m         \u001b[39mprint\u001b[39m(task, \u001b[39m'\u001b[39m\u001b[39m:\u001b[39m\u001b[39m'\u001b[39m, task())\n\u001b[0;32m     25\u001b[0m \u001b[39m@task\u001b[39;49m\n\u001b[1;32m---> 26\u001b[0m \u001b[39mdef\u001b[39;49;00m \u001b[39mplay\u001b[39;49m():\n\u001b[0;32m     27\u001b[0m     \u001b[39mreturn\u001b[39;49;00m \u001b[39m'\u001b[39;49m\u001b[39mplaying ...\u001b[39;49m\u001b[39m'\u001b[39;49m\n",
      "Cell \u001b[1;32mIn[6], line 17\u001b[0m, in \u001b[0;36mtask\u001b[1;34m(name)\u001b[0m\n\u001b[0;32m     14\u001b[0m     \u001b[39mreturn\u001b[39;00m f\n\u001b[0;32m     16\u001b[0m \u001b[39mif\u001b[39;00m \u001b[39mcallable\u001b[39m(name):\n\u001b[1;32m---> 17\u001b[0m     \u001b[39mreturn\u001b[39;00m task()(name)\n\u001b[0;32m     19\u001b[0m \u001b[39mreturn\u001b[39;00m _task\n",
      "Cell \u001b[1;32mIn[6], line 9\u001b[0m, in \u001b[0;36mtask.<locals>._task\u001b[1;34m(f)\u001b[0m\n\u001b[0;32m      7\u001b[0m \u001b[39mdef\u001b[39;00m \u001b[39m_task\u001b[39m(f):\n\u001b[0;32m      8\u001b[0m     \u001b[39mglobal\u001b[39;00m tasks\n\u001b[1;32m----> 9\u001b[0m     tasks\u001b[39m.\u001b[39mappend(f)\n\u001b[0;32m     10\u001b[0m     \u001b[39mif\u001b[39;00m name:\n\u001b[0;32m     11\u001b[0m         \u001b[39msetattr\u001b[39m(f, \u001b[39m'\u001b[39m\u001b[39mname\u001b[39m\u001b[39m'\u001b[39m, name)\n",
      "\u001b[1;31mNameError\u001b[0m: name 'tasks' is not defined"
     ]
    }
   ],
   "source": [
    "# def task(f):\n",
    "#     global tasks\n",
    "#     tasks.append(f)\n",
    "#     return f\n",
    "\n",
    "def task(name=''):\n",
    "    def _task(f):\n",
    "        global tasks\n",
    "        tasks.append(f)\n",
    "        if name:\n",
    "            setattr(f, 'name', name)\n",
    "        else:\n",
    "            setattr(f, 'name', f.__name__)\n",
    "        return f\n",
    "    \n",
    "    if callable(name):\n",
    "        return task()(name)\n",
    "    \n",
    "    return _task\n",
    "\n",
    "def action():\n",
    "    for task in tasks:\n",
    "        print(task, ':', task())\n",
    "\n",
    "@task\n",
    "def play():\n",
    "    return 'playing ...'\n",
    "\n",
    "# action()"
   ]
  },
  {
   "cell_type": "code",
   "execution_count": null,
   "metadata": {},
   "outputs": [],
   "source": [
    "def count(f):\n",
    "    counter = 0\n",
    "    def wrapper(*args, **kwargs):\n",
    "        nonlocal counter\n",
    "        counter += 1\n",
    "        return f(*args, **kwargs) + ' ' + str(counter)\n",
    "    return wrapper\n",
    "\n"
   ]
  },
  {
   "cell_type": "markdown",
   "metadata": {},
   "source": [
    "一个关于使用decorator自动添加绝对路径的实例"
   ]
  },
  {
   "cell_type": "code",
   "execution_count": null,
   "metadata": {},
   "outputs": [],
   "source": [
    "import os\n",
    "import sys\n",
    "import time\n",
    "import numpy as np\n",
    "\n",
    "import torch\n",
    "import torchvision\n",
    "import torch.nn as nn\n",
    "import torchvision.transforms as transforms\n",
    "from torch.utils.data import Dataset, DataLoader\n",
    "\n",
    "from torch.utils.tensorboard import SummaryWriter   # Launch Tensorboard\n",
    "from torchsummary import summary\n",
    "\n",
    "# add SASNet/ChangeFormer/ to environment \n",
    "def set_env(vis_main):\n",
    "    def set_env_main():\n",
    "        pythonpath = os.path.abspath(os.getcwd())\n",
    "        changeformer_path = os.path.join(pythonpath, 'ChangeFormer')\n",
    "        print(changeformer_path)\n",
    "        vis_main(path = changeformer_path)\n",
    "\n",
    "    return set_env_main\n",
    "\n",
    "def model_tensorboard(model, device):\n",
    "    # path to log\n",
    "    current_time = time.strftime(\"%Y-%m-%d_%H-%M-%S\", time.localtime()) # time info\n",
    "    log_dir = f'SASNet/attention_vis/{current_time}'    # log path\n",
    "    log_comment = f'harry'                              # comment info\n",
    "    print(next(model.parameters()).device)              # check cuda info\n",
    "    inputs = torch.randn(1, 3, 256, 256).to(device)\n",
    "    # writer = SummaryWriter(log_dir=log_dir, comment=log_comment)\n",
    "    summary(model=model, input_size=[(3, 256, 256), (3, 256, 256)], device='cuda')\n",
    "    print('model:'.center(50,\"*\"))\n",
    "    print(model)\n",
    "\n",
    "    # writer.add_graph(model=model, input_to_model=(inputs, inputs))\n",
    "    # writer.close()\n",
    "\n",
    "@set_env\n",
    "def main(path:str):\n",
    "    # set path\n",
    "    sys.path.insert(0, path)\n",
    "    from models.networks import BASE_Transformer\n",
    "\n",
    "    device = torch.device('cuda:0' if torch.cuda.is_available() else 'cpu')\n",
    "    changeformer_net = BASE_Transformer(input_nc=3, output_nc=2, token_len=4, resnet_stages_num=4,\n",
    "                                with_pos='learned', enc_depth=1, dec_depth=8)\n",
    "    model_tensorboard(changeformer_net.to(device), device)\n",
    "\n",
    "if __name__ == '__main__':\n",
    "    main()"
   ]
  }
 ],
 "metadata": {
  "kernelspec": {
   "display_name": "base",
   "language": "python",
   "name": "python3"
  },
  "language_info": {
   "codemirror_mode": {
    "name": "ipython",
    "version": 3
   },
   "file_extension": ".py",
   "mimetype": "text/x-python",
   "name": "python",
   "nbconvert_exporter": "python",
   "pygments_lexer": "ipython3",
   "version": "3.10.9"
  },
  "orig_nbformat": 4
 },
 "nbformat": 4,
 "nbformat_minor": 2
}
