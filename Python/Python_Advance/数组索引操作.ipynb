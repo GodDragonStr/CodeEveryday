{
 "cells": [
  {
   "cell_type": "code",
   "execution_count": 1,
   "metadata": {},
   "outputs": [],
   "source": [
    "import numpy as np"
   ]
  },
  {
   "cell_type": "markdown",
   "metadata": {},
   "source": [
    "通过对数组直接判断的方式可以有效检索出下标:\n",
    "- 直接打印Frequency > 0\n",
    "- 使用np.where()"
   ]
  },
  {
   "cell_type": "code",
   "execution_count": 7,
   "metadata": {},
   "outputs": [
    {
     "name": "stdout",
     "output_type": "stream",
     "text": [
      "[1 0 2 4 5]\n",
      "[ True False  True  True False  True]\n"
     ]
    }
   ],
   "source": [
    "frequency = np.array([1, 0, 2, 4, -2, 5])\n",
    "print(frequency[frequency >= 0])\n",
    "print(frequency > 0)\n"
   ]
  },
  {
   "cell_type": "code",
   "execution_count": 9,
   "metadata": {},
   "outputs": [
    {
     "name": "stdout",
     "output_type": "stream",
     "text": [
      "(array([0, 2, 3, 5], dtype=int64),)\n",
      "[0 2 3 5]\n"
     ]
    }
   ],
   "source": [
    "print(np.where(frequency > 0))\n",
    "frequency_pos_idx = np.where(frequency > 0)[0]\n",
    "print(frequency_pos_idx)"
   ]
  }
 ],
 "metadata": {
  "kernelspec": {
   "display_name": "base",
   "language": "python",
   "name": "python3"
  },
  "language_info": {
   "codemirror_mode": {
    "name": "ipython",
    "version": 3
   },
   "file_extension": ".py",
   "mimetype": "text/x-python",
   "name": "python",
   "nbconvert_exporter": "python",
   "pygments_lexer": "ipython3",
   "version": "3.10.9"
  },
  "orig_nbformat": 4
 },
 "nbformat": 4,
 "nbformat_minor": 2
}
