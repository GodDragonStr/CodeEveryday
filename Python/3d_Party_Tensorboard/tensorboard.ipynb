{
 "cells": [
  {
   "cell_type": "code",
   "execution_count": null,
   "metadata": {},
   "outputs": [],
   "source": [
    "import torch\n",
    "import numpy as np\n",
    "import time\n",
    "from torch.utils.tensorboard import SummaryWriter\n",
    "\n",
    "FILE_PATH = 'C:/Users/Harry/Repositery/SASNet/checkpoints/ChangeFormer'\n",
    "\n",
    "# path to log\n",
    "current_time = time.strftime(\"%Y-%m-%d_%H-%M-%S\", time.localtime()) # time info\n",
    "log_dir = f'{FILE_PATH}/vis_tensorboard/{current_time}'   # log path\n",
    "log_comment = f'harry'    # comment info\n",
    "print(f'log_dir:{log_dir}')\n",
    "print(f'comment:{log_comment}')\n",
    "# operation log\n",
    "draw_time_log = f'{FILE_PATH}/vis_tensorboard/'\n",
    "draw_time_log += 'draw_time_log.txt'\n",
    "\n",
    "with open(file=draw_time_log, mode='a') as f:\n",
    "    f.write(f'log_dir:{current_time}\\t log_comment:{log_comment} \\n')\n",
    "    f.close\n",
    "\n",
    "# draw curve\n",
    "draw_curve = SummaryWriter(log_dir=log_dir, comment=log_comment)\n",
    "\n",
    "# draw the curve\n",
    "train_acc_curve = np.load(f'{FILE_PATH}/train_acc.npy')\n",
    "val_acc_curve = np.load(f'{FILE_PATH}/val_acc.npy')\n",
    "\n",
    "acc_data = zip(train_acc_curve, val_acc_curve, list(range(len(train_acc_curve))))\n",
    "\n",
    "for train_value, val_value, index in acc_data:\n",
    "    draw_curve.add_scalar('train_acc', train_value, index)\n",
    "    draw_curve.add_scalar('val_acc', val_value, index)\n",
    "\n",
    "draw_curve.close()"
   ]
  },
  {
   "cell_type": "code",
   "execution_count": null,
   "metadata": {},
   "outputs": [],
   "source": []
  }
 ],
 "metadata": {
  "language_info": {
   "name": "python"
  },
  "orig_nbformat": 4
 },
 "nbformat": 4,
 "nbformat_minor": 2
}
